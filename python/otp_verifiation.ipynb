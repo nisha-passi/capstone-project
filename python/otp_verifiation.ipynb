{
  "nbformat": 4,
  "nbformat_minor": 0,
  "metadata": {
    "colab": {
      "provenance": []
    },
    "kernelspec": {
      "name": "python3",
      "display_name": "Python 3"
    },
    "language_info": {
      "name": "python"
    }
  },
  "cells": [
    {
      "cell_type": "markdown",
      "source": [
        "### Import Libraries"
      ],
      "metadata": {
        "id": "5-_6o6AoEY4Q"
      }
    },
    {
      "cell_type": "code",
      "execution_count": 100,
      "metadata": {
        "id": "qtm3ecV-8-46"
      },
      "outputs": [],
      "source": [
        "#random library is imported to generate a random 6 digit otp\n",
        "import random\n",
        "#regular expression library is imported to validate the email id is proper format or not\n",
        "import re"
      ]
    },
    {
      "cell_type": "code",
      "source": [
        "# print string in next line\n",
        "def print_nl(string):\n",
        "   print(f\"\\n{string}\")"
      ],
      "metadata": {
        "id": "sDPcaTCNkScy"
      },
      "execution_count": 101,
      "outputs": []
    },
    {
      "cell_type": "markdown",
      "source": [
        "###  Implement a function to generate a 6 digit OTP randomly."
      ],
      "metadata": {
        "id": "6dg9-OQI9Ysw"
      }
    },
    {
      "cell_type": "code",
      "source": [
        "def gen_otp():\n",
        "  otp=\"\"\n",
        "  for i in range(6):\n",
        "    otp+=str(random.randint(0,9))\n",
        "  print(\"Generated OTP:\" , otp)\n",
        "  return otp"
      ],
      "metadata": {
        "id": "d7aSWrIY9Upr"
      },
      "execution_count": 102,
      "outputs": []
    },
    {
      "cell_type": "markdown",
      "source": [
        "###  Develop a function to simulate sending the OTP to the user's email address."
      ],
      "metadata": {
        "id": "tz0uipp79ttX"
      }
    },
    {
      "cell_type": "code",
      "source": [
        "#function to get a correct email id\n",
        "def send_otp_email(otp):\n",
        "  user_email = input(\"\\nPlease enter your email: \")\n",
        "  for i in range(3):\n",
        "    if re.search(\"\\w+@\\D+\", user_email):\n",
        "       print_nl(f\"OTP has been sent to {user_email}\")\n",
        "       return True\n",
        "       break\n",
        "    elif i == 2:\n",
        "      print_nl(\"You have entered wrong email three times. Please try again later\")\n",
        "      break\n",
        "    else:\n",
        "      user_email = input(\"\\nIncorrect email Id. Please enter your correct email Id: \")\n"
      ],
      "metadata": {
        "id": "uA8dURb09mbj"
      },
      "execution_count": 103,
      "outputs": []
    },
    {
      "cell_type": "markdown",
      "source": [
        "###  Prompt the user to enter the OTP received in their email."
      ],
      "metadata": {
        "id": "aV4FL8l-AAJ7"
      }
    },
    {
      "cell_type": "code",
      "source": [
        "def prompt_user_for_otp():\n",
        "    while True:\n",
        "        try:\n",
        "            user_otp = input(\"\\nPlease enter the 6-digit OTP received in your email: \")\n",
        "            return user_otp\n",
        "        except ValueError:\n",
        "            print_nl(\"Invalid input. Please enter a 6-digit number.\")"
      ],
      "metadata": {
        "id": "r_Y43WKx-5-u"
      },
      "execution_count": 104,
      "outputs": []
    },
    {
      "cell_type": "markdown",
      "source": [
        "###  Implement a function to verify if the entered OTP matches the generated OTP and retry in case of faliure."
      ],
      "metadata": {
        "id": "xFFB91AIC2n5"
      }
    },
    {
      "cell_type": "code",
      "source": [
        "def verify_attempts(otp):\n",
        "    max_retries = 3\n",
        "    # Prompt user to enter OTP and validate it\n",
        "    for attempt in range(max_retries):\n",
        "        user_otp = prompt_user_for_otp()\n",
        "        if otp == user_otp:\n",
        "            print_nl(\"Access granted!\")\n",
        "            return\n",
        "        else:\n",
        "          print_nl(f\"Access denied. Invalid OTP. You have {max_retries - attempt - 1} attempts left.\")\n",
        "    print_nl(\"You have exhausted all attempts. Please try again later.\")"
      ],
      "metadata": {
        "id": "KvzBlPuThGVR"
      },
      "execution_count": 109,
      "outputs": []
    },
    {
      "cell_type": "code",
      "source": [
        "OTP = gen_otp()\n",
        "otp_sent = send_otp_email(OTP)\n",
        "if otp_sent:\n",
        "  verify_attempts(OTP)"
      ],
      "metadata": {
        "id": "qY-5fY_2EQdq",
        "colab": {
          "base_uri": "https://localhost:8080/"
        },
        "outputId": "34bac09f-f54c-429e-94eb-7107d8cbd4fd"
      },
      "execution_count": 108,
      "outputs": [
        {
          "output_type": "stream",
          "name": "stdout",
          "text": [
            "Generated OTP: 797512\n",
            "\n",
            "Please enter your email: dhdth@gmail.com\n",
            "\n",
            "OTP has been sent to dhdth@gmail.com\n",
            "\n",
            "Please enter the 6-digit OTP received in your email: 797512\n",
            "\n",
            "Access granted!\n"
          ]
        }
      ]
    }
  ]
}